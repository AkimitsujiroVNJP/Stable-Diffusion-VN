{
  "cells": [
    {
      "cell_type": "markdown",
      "metadata": {
        "id": "view-in-github",
        "colab_type": "text"
      },
      "source": [
        "<a href=\"https://colab.research.google.com/github/AkimitsujiroVNJP/Stable-Diffusion-VN/blob/main/Stable_Diffusion_WebUI_Colab.ipynb\" target=\"_parent\"><img src=\"https://colab.research.google.com/assets/colab-badge.svg\" alt=\"Open In Colab\"/></a>"
      ]
    },
    {
      "cell_type": "markdown",
      "metadata": {
        "id": "90f64bk-2HjF"
      },
      "source": [
        "\n",
        "<center>\n",
        "\n",
        "Cập nhật mới nhất: 07-08-2023 | 14:15 PM\n",
        "\n",
        "<font color=\"#FFFF00\"><font size=\"5\">**Stable Diffusion V1.0**\n",
        "\n",
        "<font color=\"#FF0000\"><font size=\"3\">**This is beta not final version**\n",
        "\n",
        "<center><font color=\"#00FFFF\" <font size=\"4\">Bạn có thể chạy không cần GPU ( Không khuyến khích )\n",
        "\n",
        "<font color=\"#CC3E3E\"><font size=\"6\"><u><b>Một số lưu ý!</b></u>\n",
        "\n",
        "Do các quy định mới nhất về cộng tác của google <b><a href=\"https://research.google.com/colaboratory/faq.html#limitations-and-restrictions\"> Điều khoản dịch vụ của Google Colab</a></b> và <b><a href=\"https://twitter.com/thechrisperry/status/1649189902079381505\"> Tuyên bố chính thức</a></b>, vui lòng không chạy tập lệnh nếu có bất kỳ cảnh báo hiển thị lên màn hình."
      ]
    },
    {
      "cell_type": "markdown",
      "metadata": {
        "id": "BSv04me42N2A"
      },
      "source": [
        "# **Đừng quên đọc**\n",
        "Để chạy chương trình này, bạn không cần phải thông số kỹ thuật cao vì chương trình này sử dụng dịch vụ dựa trên đám mây của Google. Tốc độ tải xuống tệp phụ thuộc vào kết nối internet của Google và số lượng tệp được tải xuống nên nếu thấy tải xuống chậm thì đừng nghĩ rằng do mạng của các bạn!"
      ]
    },
    {
      "cell_type": "markdown",
      "metadata": {
        "id": "Obmjkja02SuZ"
      },
      "source": [
        "<font color=\"#00CED1\">**THÔNG TIN QUAN **:</font>\n",
        "\n",
        "1. Do [Chính sách][Chính sách] và [Tuyên bố chính thức][Tuyên bố chính thức] của Google Colab, vì người dùng google colab miễn phí sẽ bị hạn chế sử dụng GPU và CUDA***(việc tính toán bị hạn chế)***\n",
        "2. Nếu tài khoản có giới hạn sử dụng Google Colab, tài khoản có thể được sử dụng lại trong vòng 24 giờ tới. (1 tài khoản google có hạn sử dụng là 12h)\n",
        "3. Thay đổi tài khoản Google được sử dụng sẽ đặt lại giới hạn sử dụng, nhưng có giới hạn số lần thay đổi sử dụng hợp lý (tối đa 3 tài khoản, cố gắng đừng có nhiều hơn).\n",
        "\n",
        "\n",
        "\n",
        "[Chính sách]: https://research.google.com/colaboratory/faq.html#limitations-and-restrictions\n",
        "[Tuyên bố chính thức]: https://twitter.com/thechrisperry/status/1649189902079381505\n",
        "---\n",
        "\n",
        "> <font color=\"#CC3E3E\">**THÔNG TIN**:</font>\n",
        "\n",
        "Không bao giờ thay đổi tài khoản thường xuyên để vượt qua giới hạn sử dụng của google colab, vì điều đó được bao gồm trong vi phạm trong [chính sách][mới] (cố gắng không sử dụng nhiều hơn 3 tài khoản)\n",
        "\n",
        "[mới]:https://research.google.com/colaboratory/intl/id/faq.html\n",
        "----\n",
        "- Các bạn nên chạy từng chương trình một nếu không có thể sẽ tiêu tốn khá nhiều thời gian mà google colab đã đưa ra cho người dùng.\n",
        "\n",
        "- Không bấm chạy tất cả khi bạn chỉ muốn chạy một trong hai chương trình ( Stable Diffusion hoặc RVC )\n",
        "----\n",
        "- DEV:[<b><a href= \"https://www.facebook.com/akimitsujirovn\" >Facebook</a></b>] [<b><a href= \"https://portaly.cc/akimitsujirovn\" >Portaly</a></b>] ( Stable Diffusion )\n",
        "----\n",
        "<font size=\"5\">File Prompt mà mình đã chuận bị cho mọi người thử ( Có những hình ảnh và prompt không phù hợp với một số người - File sẽ được thay đổi khi có thêm model mới )\n",
        "<b><a href= \"https://docs.google.com/document/d/1vvxYS93Y1DUT8Nt1yXT-YimdnSsRflAn/edit?usp=sharing&ouid=112537240569318599104&rtpof=true&sd=true\" >File Prompt Train</a></b>\n",
        "----\n",
        "<font size=\"5\">Nếu các bạn thích bản này thì ủng hộ cho mình để mình có thêm nhiều động lực để làm nhé! Cảm ơn sự ủng hộ của các bạn rất nhiều:\n",
        "\n",
        "<center><a href='https://postimg.cc/3WgsR9Lp' target='_blank'><img src='https://i.postimg.cc/3WgsR9Lp/Screenshot-20230726-161422-MB-Bank.png' border='0' alt='Screenshot-20230726-161422-MB-Bank'/></a>"
      ]
    },
    {
      "cell_type": "markdown",
      "metadata": {
        "id": "0Xj4zikrwB5t"
      },
      "source": [
        "Xem trước Model:\n",
        "\n",
        "SketchStyle\n",
        "&nbsp; &nbsp;<img src=\"https://i.postimg.cc/mkqqdpXy/00000.png\" width=\"400\"/>\n",
        "\n",
        "IndigoFurry\n",
        "&nbsp; &nbsp;<img src=\"https://i.postimg.cc/Bn1TDtc1/26794-3007693645-masterpiece-high-quality-absurd-res-digital-painting-artwork-by-kuroisumi.jpg\" with=\"220\"/>"
      ]
    },
    {
      "cell_type": "code",
      "execution_count": null,
      "metadata": {
        "cellView": "form",
        "id": "0EaN6WfGzdQO"
      },
      "outputs": [],
      "source": [
        "#@title Mount Driver\n",
        "from google.colab import drive\n",
        "drive.mount('/content/drive')"
      ]
    },
    {
      "cell_type": "code",
      "execution_count": null,
      "metadata": {
        "cellView": "form",
        "id": "viczl-j89kDA"
      },
      "outputs": [],
      "source": [
        "#@title GPU\n",
        "!nvidia-smi"
      ]
    },
    {
      "cell_type": "code",
      "execution_count": null,
      "metadata": {
        "cellView": "form",
        "id": "6YANvxPt_7aG"
      },
      "outputs": [],
      "source": [
        " #@title Environment\n",
        "%cd /content\n",
        "\n",
        "%env TF_CPP_MIN_LOG_LEVEL=1\n",
        "\n",
        "!apt -y update -qq\n",
        "!wget https://github.com/camenduru/gperftools/releases/download/v1.0/libtcmalloc_minimal.so.4 -O /content/libtcmalloc_minimal.so.4\n",
        "%env LD_PRELOAD=/content/libtcmalloc_minimal.so.4"
      ]
    },
    {
      "cell_type": "code",
      "execution_count": null,
      "metadata": {
        "cellView": "form",
        "id": "zwem9LCRAT7Z"
      },
      "outputs": [],
      "source": [
        "#@title Dependencies\n",
        "print('⏳ Download dependencies ...')\n",
        "!apt -y install -qq aria2 libcairo2-dev pkg-config python3-dev\n",
        "!pip install -q torch==2.0.1+cu118 torchvision==0.15.2+cu118 torchaudio==2.0.2+cu118 torchtext==0.15.2 torchdata==0.6.1 --extra-index-url https://download.pytorch.org/whl/cu118 -U\n",
        "!pip install -q xformers==0.0.20 triton==2.0.0 gradio_client==0.2.7 -U"
      ]
    },
    {
      "cell_type": "code",
      "execution_count": null,
      "metadata": {
        "cellView": "form",
        "id": "zo0ZSu1JAem2"
      },
      "outputs": [],
      "source": [
        "#@title Automatic1111 & Extensions\n",
        "print('⏳ Downloading Automatic1111 & extensions ...')\n",
        "!git clone -b v2.4 https://github.com/camenduru/stable-diffusion-webui\n",
        "!git clone https://huggingface.co/embed/negative /content/stable-diffusion-webui/embeddings/negative\n",
        "!git clone https://huggingface.co/embed/lora /content/stable-diffusion-webui/models/Lora/positive\n",
        "!aria2c --console-log-level=error -c -x 16 -s 16 -k 1M https://huggingface.co/embed/upscale/resolve/main/4x-UltraSharp.pth -d /content/stable-diffusion-webui/models/ESRGAN -o 4x-UltraSharp.pth\n",
        "!wget https://raw.githubusercontent.com/camenduru/stable-diffusion-webui-scripts/main/run_n_times.py -O /content/stable-diffusion-webui/scripts/run_n_times.py\n",
        "!git clone -b v2.4 https://github.com/camenduru/stable-diffusion-webui-images-browser /content/stable-diffusion-webui/extensions/stable-diffusion-webui-images-browser\n",
        "!git clone -b v2.4 https://github.com/camenduru/stable-diffusion-webui-huggingface /content/stable-diffusion-webui/extensions/stable-diffusion-webui-huggingface\n",
        "!git clone -b v2.4 https://github.com/camenduru/sd-civitai-browser /content/stable-diffusion-webui/extensions/sd-civitai-browser\n",
        "!git clone -b v2.4 https://github.com/camenduru/sd-webui-tunnels /content/stable-diffusion-webui/extensions/sd-webui-tunnels\n",
        "!git clone -b v2.4 https://github.com/camenduru/stable-diffusion-webui-catppuccin /content/stable-diffusion-webui/extensions/stable-diffusion-webui-catppuccin\n",
        "!git clone -b v2.4 https://github.com/camenduru/stable-diffusion-webui-two-shot /content/stable-diffusion-webui/extensions/stable-diffusion-webui-two-shot\n",
        "!git clone -b v2.4 https://github.com/camenduru/sd-webui-aspect-ratio-helper /content/stable-diffusion-webui/extensions/sd-webui-aspect-ratio-helper\n",
        "!git clone -b v2.4 https://github.com/camenduru/asymmetric-tiling-sd-webui /content/stable-diffusion-webui/extensions/asymmetric-tiling-sd-webui\n",
        "!git clone https://github.com/Iyashinouta/sd-model-downloader /content/stable-diffusion-webui/extensions/sd-model-downloader\n",
        "%cd /content/stable-diffusion-webui\n",
        "!git reset --hard\n",
        "!git -C /content/stable-diffusion-webui/repositories/stable-diffusion-stability-ai reset --hard"
      ]
    },
    {
      "cell_type": "code",
      "execution_count": null,
      "metadata": {
        "cellView": "form",
        "id": "qEc8GoStAy42"
      },
      "outputs": [],
      "source": [
        "#@title Models\n",
        "print('⏳ Downloading models ...')\n",
        "!aria2c --console-log-level=error -c -x 16 -s 16 -k 1M https://huggingface.co/FoxsTail/sketchStyle/resolve/main/sketchStyleForImg2img_sketchStyleV25.safetensors -d /content/stable-diffusion-webui/models/Stable-diffusion -o sketchStyleForImg2img_sketchStyleV25.safetensors\n",
        "#!aria2c --console-log-level=error -c -x 16 -s 16 -k 1M https://huggingface.co/fp16-guy/Cetus-Mix_Whalefall_fp16_cleaned/resolve/main/cetusMix_Whalefall2_fp16_no_vae.safetensors -d /content/stable-diffusion-webui/models/Stable-diffusion -o cetusmixwhalefall.safetensors\n",
        "#!aria2c --console-log-level=error -c -x 16 -s 16 -k 1M https://huggingface.co/hanafuusen2001/ReVAnimated/resolve/main/revAnimated_v122.safetensors -d /content/stable-diffusion-webui/models/Stable-diffusion -o revAnimated.safetensors\n",
        "#!aria2c --console-log-level=error -c -x 16 -s 16 -k 1M https://huggingface.co/Meina/MeinaMix_V11/resolve/main/safety_checker/model.safetensors -d /content/stable-diffusion-webui/models/Stable-diffusion -o model.safetensors\n",
        "#!aria2c --console-log-level=error -c -x 16 -s 16 -k 1M https://huggingface.co/Meina/MeinaPastel_V6/resolve/main/safety_checker/model.safetensors -d /content/stable-diffusion-webui/models/Stable-diffusion -o MeinaPastel.safetensors\n",
        "#!aria2c --console-log-level=error -c -x 16 -s 16 -k 1M https://huggingface.co/Yntec/RPG_Remix/resolve/main/RPG_Remix.safetensors -d /content/stable-diffusion-webui/models/Stable-diffusion -o rpgremix.safetensors\n",
        "#!aria2c --console-log-level=error -c -x 16 -s 16 -k 1M https://huggingface.co/uhralk/Indigo_Furry_mix/resolve/main/indigo_Furrymix_v45_hybrid_fin_fp32.safetensors -d /content/stable-diffusion-webui/models/Stable-diffusion -o indigo_Furrymix_v45_hybrid_fin_fp32.safetensors"
      ]
    },
    {
      "cell_type": "code",
      "execution_count": null,
      "metadata": {
        "id": "AKP_o2D4BRsg",
        "cellView": "form"
      },
      "outputs": [],
      "source": [
        "#@title Fix change branch issues\n",
        "!sed -i -e '''/from modules import launch_utils/a\\import os''' /content/stable-diffusion-webui/launch.py\n",
        "!sed -i -e '''/        prepare_environment()/a\\        os.system\\(f\\\"\"\"sed -i -e ''\\\"s/dict()))/dict())).cuda()/g\\\"'' /content/stable-diffusion-webui/repositories/stable-diffusion-stability-ai/ldm/util.py\"\"\")''' /content/stable-diffusion-webui/launch.py\n",
        "!sed -i -e 's/\\[\"sd_model_checkpoint\"\\]/\\[\"sd_model_checkpoint\",\"sd_vae\",\"CLIP_stop_at_last_layers\"\\]/g' /content/stable-diffusion-webui/modules/shared.py"
      ]
    },
    {
      "cell_type": "code",
      "execution_count": null,
      "metadata": {
        "cellView": "form",
        "id": "lQT7TOcYA_QG"
      },
      "outputs": [],
      "source": [
        "#@title Lauch WebUI\n",
        "print('⏳ Lauch WebUI ...')\n",
        "!python launch.py --listen --xformers --enable-insecure-extension-access --theme dark --gradio-queue --multiple --skip-torch-cuda-test"
      ]
    }
  ],
  "metadata": {
    "accelerator": "GPU",
    "colab": {
      "provenance": [],
      "authorship_tag": "ABX9TyPfa+cQpv87xTixgJ3EPzOw",
      "include_colab_link": true
    },
    "kernelspec": {
      "display_name": "Python 3",
      "name": "python3"
    },
    "language_info": {
      "name": "python"
    }
  },
  "nbformat": 4,
  "nbformat_minor": 0
}